{
 "cells": [
  {
   "cell_type": "code",
   "execution_count": 1,
   "metadata": {},
   "outputs": [
    {
     "data": {
      "application/javascript": [
       "\n",
       "try {\n",
       "require(['notebook/js/codecell'], function(codecell) {\n",
       "  codecell.CodeCell.options_default.highlight_modes[\n",
       "      'magic_text/x-csrc'] = {'reg':[/^%%microblaze/]};\n",
       "  Jupyter.notebook.events.one('kernel_ready.Kernel', function(){\n",
       "      Jupyter.notebook.get_cells().map(function(cell){\n",
       "          if (cell.cell_type == 'code'){ cell.auto_highlight(); } }) ;\n",
       "  });\n",
       "});\n",
       "} catch (e) {};\n"
      ]
     },
     "metadata": {},
     "output_type": "display_data"
    }
   ],
   "source": [
    "from pynq import Overlay\n",
    "cordic = Overlay(\"./cordic.bit\")"
   ]
  },
  {
   "cell_type": "code",
   "execution_count": 2,
   "metadata": {
    "scrolled": true
   },
   "outputs": [
    {
     "data": {
      "text/plain": [
       "True"
      ]
     },
     "execution_count": 2,
     "metadata": {},
     "output_type": "execute_result"
    }
   ],
   "source": [
    "cordic.is_loaded()"
   ]
  },
  {
   "cell_type": "code",
   "execution_count": 3,
   "metadata": {},
   "outputs": [],
   "source": [
    "cordic_0 = cordic.cordiccart2pol_0\n",
    "#dir(cordic_0)"
   ]
  },
  {
   "cell_type": "code",
   "execution_count": 4,
   "metadata": {
    "scrolled": false
   },
   "outputs": [
    {
     "name": "stdout",
     "output_type": "stream",
     "text": [
      "939835392\n",
      "r = [ 1.9996978],theta = [ 0.7853632],flag = 0\n",
      "0b100\n",
      "耗时：0.0056955814361572266s\n"
     ]
    }
   ],
   "source": [
    "#r = 0\n",
    "#theta = 0\n",
    "#x = 1\n",
    "#y = 2\n",
    "from pynq import allocate, mmio\n",
    "import time\n",
    "from time import sleep\n",
    "import random\n",
    "import struct\n",
    "import binascii\n",
    "import numpy as np\n",
    "\n",
    "x = allocate(shape=(1,), dtype='f4')\n",
    "y = allocate(shape=(1,), dtype='f4')\n",
    "output_reg_r = allocate(shape=(1,), dtype='f4')\n",
    "output_reg_theta = allocate(shape=(1,), dtype='f4')\n",
    "\n",
    "np.copyto(x, 1.414)\n",
    "np.copyto(y, 1.414)\n",
    "\n",
    "\n",
    "#x=random.uniform(-1,1)\n",
    "#y=random.uniform(-1,1)\n",
    "\n",
    "#x=(struct.unpack('<I',struct.pack('<f',x))[0])\n",
    "#y=(struct.unpack('<I',struct.pack('<f',y))[0])\n",
    "\n",
    "cordic_0.s_axi_control.write(0x10,x.physical_address)\n",
    "cordic_0.s_axi_control.write(0x1c,y.physical_address)\n",
    "cordic_0.s_axi_control.write(0x28,output_reg_r.physical_address)\n",
    "cordic_0.s_axi_control.write(0x34,output_reg_theta.physical_address)\n",
    "\n",
    "sleep(1)\n",
    "\n",
    "\n",
    "\n",
    "cordic_0.s_axi_CTRL.write(0x0, 0x01)\n",
    "print(\"{}\".format(cordic_0.s_axi_control.read(0x28)))\n",
    "start_time = time.time()\n",
    "while True:\n",
    "    reg = cordic_0.s_axi_CTRL.read(0x00)\n",
    "    print(\"r = {},theta = {},flag = {}\".format(output_reg_r,output_reg_theta,cordic_0.s_axi_CTRL.read(0x10)))\n",
    "    if reg!=1:\n",
    "        break\n",
    "end_time = time.time()\n",
    "\n",
    "sleep(1)\n",
    "print(\"{}\".format(bin(cordic_0.s_axi_CTRL.read(0x0))))\n",
    "print(\"耗时：{}s\".format(end_time - start_time))"
   ]
  },
  {
   "cell_type": "code",
   "execution_count": 5,
   "metadata": {},
   "outputs": [
    {
     "name": "stdout",
     "output_type": "stream",
     "text": [
      "r = [ 1.9996978],theta = [ 0.7853632]\n"
     ]
    }
   ],
   "source": [
    "\n",
    "'''output_reg_r = hex(cordic_0.s_axi_control.read(0x14))\n",
    "output_reg_r=output_reg_r[2: ]\n",
    "output_reg_theta = hex(cordic_0.s_axi_control.read(0x1c))\n",
    "output_reg_theta=output_reg_theta[2: ]\n",
    "if output_reg_r!='0':\n",
    "    output_reg_r=struct.unpack('>f',binascii.unhexlify(output_reg_r))\n",
    "    output_reg_r=output_reg_r[0]\n",
    "if output_reg_theta!='0':\n",
    "    output_reg_theta=struct.unpack('>f',binascii.unhexlify(output_reg_theta))\n",
    "    output_reg_theta=output_reg_theta[0]'''\n",
    "                    \n",
    "print(\"r = {},theta = {}\".format(output_reg_r,output_reg_theta))"
   ]
  },
  {
   "cell_type": "code",
   "execution_count": 6,
   "metadata": {},
   "outputs": [
    {
     "data": {
      "text/plain": [
       "939827200"
      ]
     },
     "execution_count": 6,
     "metadata": {},
     "output_type": "execute_result"
    }
   ],
   "source": [
    "x.physical_address"
   ]
  },
  {
   "cell_type": "code",
   "execution_count": 7,
   "metadata": {},
   "outputs": [
    {
     "data": {
      "text/plain": [
       "PynqBuffer([ 1.41400003], dtype=float32)"
      ]
     },
     "execution_count": 7,
     "metadata": {},
     "output_type": "execute_result"
    }
   ],
   "source": [
    "x"
   ]
  },
  {
   "cell_type": "code",
   "execution_count": null,
   "metadata": {},
   "outputs": [],
   "source": []
  }
 ],
 "metadata": {
  "kernelspec": {
   "display_name": "Python 3",
   "language": "python",
   "name": "python3"
  },
  "language_info": {
   "codemirror_mode": {
    "name": "ipython",
    "version": 3
   },
   "file_extension": ".py",
   "mimetype": "text/x-python",
   "name": "python",
   "nbconvert_exporter": "python",
   "pygments_lexer": "ipython3",
   "version": "3.6.5"
  }
 },
 "nbformat": 4,
 "nbformat_minor": 2
}
